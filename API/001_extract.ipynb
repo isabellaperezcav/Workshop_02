{
 "cells": [
  {
   "cell_type": "markdown",
   "id": "e2a30f01",
   "metadata": {},
   "source": [
    "Extracción de datos ( 001_extract.ipynb)\n",
    "Este cuaderno tiene como objetivo la extracción de datos desde [origen de datos], asegurando que la información obtenida sea completa y estructurada correctamente para su posterior transformación y análisis en el pipeline ETL."
   ]
  },
  {
   "cell_type": "markdown",
   "id": "88592874",
   "metadata": {},
   "source": [
    "Setting the environment"
   ]
  },
  {
   "cell_type": "code",
   "execution_count": 1,
   "id": "33309242-e995-4344-a827-dfee8915bba2",
   "metadata": {},
   "outputs": [
    {
     "name": "stdout",
     "output_type": "stream",
     "text": [
      "Conexión exitosa a la API\n",
      "✅ Módulo 'conexion_api' importado correctamente.\n"
     ]
    }
   ],
   "source": [
    "import sys\n",
    "import os\n",
    "\n",
    "# Ruta absoluta de la carpeta 'config' (sube un nivel desde 'cuadernos')\n",
    "config_path = os.path.abspath(os.path.join(os.getcwd(), \"..\", \"config\"))\n",
    "\n",
    "# Asegurar que la ruta correcta está en sys.path\n",
    "if config_path not in sys.path:\n",
    "    sys.path.append(config_path)\n",
    "\n",
    "# Intentar importar\n",
    "try:\n",
    "    import conexion_api\n",
    "    print(\"✅ Módulo 'conexion_api' importado correctamente.\")\n",
    "except ModuleNotFoundError as e:\n",
    "    print(\"❌ Error al importar 'conexion_api':\", e)"
   ]
  },
  {
   "cell_type": "code",
   "execution_count": 5,
   "id": "d570c025-5a21-4c5a-b4ca-969fcbcdffe6",
   "metadata": {},
   "outputs": [],
   "source": [
    "import requests\n",
    "import pandas as pd\n",
    "import json\n",
    "import matplotlib.pyplot as plt\n",
    "import seaborn as sns\n",
    "import folium\n",
    "import geopandas as gpd\n",
    "from bs4 import BeautifulSoup\n",
    "import xml.etree.ElementTree as ET  "
   ]
  },
  {
   "cell_type": "markdown",
   "id": "55fefbde",
   "metadata": {},
   "source": [
    "Reading the dataset"
   ]
  },
  {
   "cell_type": "code",
   "execution_count": null,
   "id": "3c60ef51-2da4-47fb-bbff-b2b5a46057e6",
   "metadata": {},
   "outputs": [
    {
     "name": "stdout",
     "output_type": "stream",
     "text": [
      "Respuesta recibida correctamente\n",
      "\n"
     ]
    },
    {
     "ename": "ParseError",
     "evalue": "syntax error: line 7, column 0 (<string>)",
     "output_type": "error",
     "traceback": [
      "Traceback \u001b[0;36m(most recent call last)\u001b[0m:\n",
      "\u001b[0m  File \u001b[1;32m~/.local/lib/python3.8/site-packages/IPython/core/interactiveshell.py:3508\u001b[0m in \u001b[1;35mrun_code\u001b[0m\n    exec(code_obj, self.user_global_ns, self.user_ns)\u001b[0m\n",
      "\u001b[0m  Cell \u001b[1;32mIn[8], line 6\u001b[0m\n    root = ET.fromstring(conexion_api.response.text)\u001b[0m\n",
      "\u001b[0;36m  File \u001b[0;32m/usr/lib/python3.8/xml/etree/ElementTree.py:1320\u001b[0;36m in \u001b[0;35mXML\u001b[0;36m\n\u001b[0;31m    parser.feed(text)\u001b[0;36m\n",
      "\u001b[0;36m  File \u001b[0;32m<string>\u001b[0;36m\u001b[0m\n\u001b[0;31mParseError\u001b[0m\u001b[0;31m:\u001b[0m syntax error: line 7, column 0\n"
     ]
    }
   ],
   "source": [
    "# Obtener los datos XML de la API\n",
    "if conexion_api.response.status_code == 200:\n",
    "    print(\"Respuesta recibida correctamente\\n\")\n",
    "\n",
    "    # Parsear XML\n",
    "    root = ET.fromstring(conexion_api.response.text)\n",
    "\n",
    "    # Función recursiva para imprimir elementos XML\n",
    "    def print_element(element, indent=\"\"):\n",
    "        print(f\"{indent}<{element.tag} {element.attrib}>\")\n",
    "        for child in element:\n",
    "            print_element(child, indent + \"  \")\n",
    "        if element.text and element.text.strip():\n",
    "            print(f\"{indent}  {element.text}\")\n",
    "\n",
    "    # Imprimir el XML estructurado\n",
    "    print_element(root)\n",
    "\n",
    "else:\n",
    "    print(f\"Error en la solicitud: Código {conexion_api.response.status_code}\")\n"
   ]
  },
  {
   "cell_type": "code",
   "execution_count": null,
   "id": "2d51af56-d635-4f4e-80cb-d9436f566ec5",
   "metadata": {},
   "outputs": [],
   "source": []
  }
 ],
 "metadata": {
  "kernelspec": {
   "display_name": "Python 3",
   "language": "python",
   "name": "python3"
  },
  "language_info": {
   "codemirror_mode": {
    "name": "ipython",
    "version": 3
   },
   "file_extension": ".py",
   "mimetype": "text/x-python",
   "name": "python",
   "nbconvert_exporter": "python",
   "pygments_lexer": "ipython3",
   "version": "3.8.10"
  }
 },
 "nbformat": 4,
 "nbformat_minor": 5
}
